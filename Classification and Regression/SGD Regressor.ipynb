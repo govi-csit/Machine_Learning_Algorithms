{
 "cells": [
  {
   "cell_type": "code",
   "execution_count": 0,
   "metadata": {
    "colab": {},
    "colab_type": "code",
    "collapsed": true,
    "id": "REYPoTJ1Af7u"
   },
   "outputs": [],
   "source": [
    "# Refer the sklearn documentation for more information\n",
    "\n",
    "# https://scikit-learn.org/stable/modules/generated/sklearn.linear_model.SGDRegressor.html"
   ]
  },
  {
   "cell_type": "code",
   "execution_count": 2,
   "metadata": {},
   "outputs": [],
   "source": [
    "import warnings\n",
    "warnings.filterwarnings(\"ignore\")\n",
    "from sklearn.datasets import load_boston\n",
    "from random import seed\n",
    "from random import randrange\n",
    "from csv import reader\n",
    "from math import sqrt\n",
    "from sklearn import preprocessing\n",
    "import pandas as pd\n",
    "import numpy as np\n",
    "import matplotlib.pyplot as plt\n",
    "from prettytable import PrettyTable\n",
    "from sklearn.linear_model import SGDRegressor\n",
    "from sklearn import preprocessing\n",
    "from sklearn.metrics import mean_squared_error"
   ]
  },
  {
   "cell_type": "markdown",
   "metadata": {},
   "source": [
    "<h2>Loading data</h2>"
   ]
  },
  {
   "cell_type": "code",
   "execution_count": 3,
   "metadata": {
    "colab": {},
    "colab_type": "code",
    "id": "NTQ2iH-kAwbo"
   },
   "outputs": [
    {
     "name": "stdout",
     "output_type": "stream",
     "text": [
      "(506, 13)\n"
     ]
    }
   ],
   "source": [
    "boston = load_boston()\n",
    "\n",
    "print(boston.data.shape)"
   ]
  },
  {
   "cell_type": "code",
   "execution_count": 4,
   "metadata": {},
   "outputs": [
    {
     "name": "stdout",
     "output_type": "stream",
     "text": [
      "Boston House Prices dataset\n",
      "===========================\n",
      "\n",
      "Notes\n",
      "------\n",
      "Data Set Characteristics:  \n",
      "\n",
      "    :Number of Instances: 506 \n",
      "\n",
      "    :Number of Attributes: 13 numeric/categorical predictive\n",
      "    \n",
      "    :Median Value (attribute 14) is usually the target\n",
      "\n",
      "    :Attribute Information (in order):\n",
      "        - CRIM     per capita crime rate by town\n",
      "        - ZN       proportion of residential land zoned for lots over 25,000 sq.ft.\n",
      "        - INDUS    proportion of non-retail business acres per town\n",
      "        - CHAS     Charles River dummy variable (= 1 if tract bounds river; 0 otherwise)\n",
      "        - NOX      nitric oxides concentration (parts per 10 million)\n",
      "        - RM       average number of rooms per dwelling\n",
      "        - AGE      proportion of owner-occupied units built prior to 1940\n",
      "        - DIS      weighted distances to five Boston employment centres\n",
      "        - RAD      index of accessibility to radial highways\n",
      "        - TAX      full-value property-tax rate per $10,000\n",
      "        - PTRATIO  pupil-teacher ratio by town\n",
      "        - B        1000(Bk - 0.63)^2 where Bk is the proportion of blacks by town\n",
      "        - LSTAT    % lower status of the population\n",
      "        - MEDV     Median value of owner-occupied homes in $1000's\n",
      "\n",
      "    :Missing Attribute Values: None\n",
      "\n",
      "    :Creator: Harrison, D. and Rubinfeld, D.L.\n",
      "\n",
      "This is a copy of UCI ML housing dataset.\n",
      "http://archive.ics.uci.edu/ml/datasets/Housing\n",
      "\n",
      "\n",
      "This dataset was taken from the StatLib library which is maintained at Carnegie Mellon University.\n",
      "\n",
      "The Boston house-price data of Harrison, D. and Rubinfeld, D.L. 'Hedonic\n",
      "prices and the demand for clean air', J. Environ. Economics & Management,\n",
      "vol.5, 81-102, 1978.   Used in Belsley, Kuh & Welsch, 'Regression diagnostics\n",
      "...', Wiley, 1980.   N.B. Various transformations are used in the table on\n",
      "pages 244-261 of the latter.\n",
      "\n",
      "The Boston house-price data has been used in many machine learning papers that address regression\n",
      "problems.   \n",
      "     \n",
      "**References**\n",
      "\n",
      "   - Belsley, Kuh & Welsch, 'Regression diagnostics: Identifying Influential Data and Sources of Collinearity', Wiley, 1980. 244-261.\n",
      "   - Quinlan,R. (1993). Combining Instance-Based and Model-Based Learning. In Proceedings on the Tenth International Conference of Machine Learning, 236-243, University of Massachusetts, Amherst. Morgan Kaufmann.\n",
      "   - many more! (see http://archive.ics.uci.edu/ml/datasets/Housing)\n",
      "\n"
     ]
    }
   ],
   "source": [
    "print(boston.DESCR)"
   ]
  },
  {
   "cell_type": "code",
   "execution_count": 5,
   "metadata": {},
   "outputs": [
    {
     "data": {
      "text/html": [
       "<div>\n",
       "<style scoped>\n",
       "    .dataframe tbody tr th:only-of-type {\n",
       "        vertical-align: middle;\n",
       "    }\n",
       "\n",
       "    .dataframe tbody tr th {\n",
       "        vertical-align: top;\n",
       "    }\n",
       "\n",
       "    .dataframe thead th {\n",
       "        text-align: right;\n",
       "    }\n",
       "</style>\n",
       "<table border=\"1\" class=\"dataframe\">\n",
       "  <thead>\n",
       "    <tr style=\"text-align: right;\">\n",
       "      <th></th>\n",
       "      <th>CRIM</th>\n",
       "      <th>ZN</th>\n",
       "      <th>INDUS</th>\n",
       "      <th>CHAS</th>\n",
       "      <th>NOX</th>\n",
       "      <th>RM</th>\n",
       "      <th>AGE</th>\n",
       "      <th>DIS</th>\n",
       "      <th>RAD</th>\n",
       "      <th>TAX</th>\n",
       "      <th>PTRATIO</th>\n",
       "      <th>B</th>\n",
       "      <th>LSTAT</th>\n",
       "      <th>output</th>\n",
       "    </tr>\n",
       "  </thead>\n",
       "  <tbody>\n",
       "    <tr>\n",
       "      <th>0</th>\n",
       "      <td>0.00632</td>\n",
       "      <td>18.0</td>\n",
       "      <td>2.31</td>\n",
       "      <td>0.0</td>\n",
       "      <td>0.538</td>\n",
       "      <td>6.575</td>\n",
       "      <td>65.2</td>\n",
       "      <td>4.0900</td>\n",
       "      <td>1.0</td>\n",
       "      <td>296.0</td>\n",
       "      <td>15.3</td>\n",
       "      <td>396.90</td>\n",
       "      <td>4.98</td>\n",
       "      <td>24.0</td>\n",
       "    </tr>\n",
       "    <tr>\n",
       "      <th>1</th>\n",
       "      <td>0.02731</td>\n",
       "      <td>0.0</td>\n",
       "      <td>7.07</td>\n",
       "      <td>0.0</td>\n",
       "      <td>0.469</td>\n",
       "      <td>6.421</td>\n",
       "      <td>78.9</td>\n",
       "      <td>4.9671</td>\n",
       "      <td>2.0</td>\n",
       "      <td>242.0</td>\n",
       "      <td>17.8</td>\n",
       "      <td>396.90</td>\n",
       "      <td>9.14</td>\n",
       "      <td>21.6</td>\n",
       "    </tr>\n",
       "    <tr>\n",
       "      <th>2</th>\n",
       "      <td>0.02729</td>\n",
       "      <td>0.0</td>\n",
       "      <td>7.07</td>\n",
       "      <td>0.0</td>\n",
       "      <td>0.469</td>\n",
       "      <td>7.185</td>\n",
       "      <td>61.1</td>\n",
       "      <td>4.9671</td>\n",
       "      <td>2.0</td>\n",
       "      <td>242.0</td>\n",
       "      <td>17.8</td>\n",
       "      <td>392.83</td>\n",
       "      <td>4.03</td>\n",
       "      <td>34.7</td>\n",
       "    </tr>\n",
       "    <tr>\n",
       "      <th>3</th>\n",
       "      <td>0.03237</td>\n",
       "      <td>0.0</td>\n",
       "      <td>2.18</td>\n",
       "      <td>0.0</td>\n",
       "      <td>0.458</td>\n",
       "      <td>6.998</td>\n",
       "      <td>45.8</td>\n",
       "      <td>6.0622</td>\n",
       "      <td>3.0</td>\n",
       "      <td>222.0</td>\n",
       "      <td>18.7</td>\n",
       "      <td>394.63</td>\n",
       "      <td>2.94</td>\n",
       "      <td>33.4</td>\n",
       "    </tr>\n",
       "    <tr>\n",
       "      <th>4</th>\n",
       "      <td>0.06905</td>\n",
       "      <td>0.0</td>\n",
       "      <td>2.18</td>\n",
       "      <td>0.0</td>\n",
       "      <td>0.458</td>\n",
       "      <td>7.147</td>\n",
       "      <td>54.2</td>\n",
       "      <td>6.0622</td>\n",
       "      <td>3.0</td>\n",
       "      <td>222.0</td>\n",
       "      <td>18.7</td>\n",
       "      <td>396.90</td>\n",
       "      <td>5.33</td>\n",
       "      <td>36.2</td>\n",
       "    </tr>\n",
       "  </tbody>\n",
       "</table>\n",
       "</div>"
      ],
      "text/plain": [
       "      CRIM    ZN  INDUS  CHAS    NOX     RM   AGE     DIS  RAD    TAX  \\\n",
       "0  0.00632  18.0   2.31   0.0  0.538  6.575  65.2  4.0900  1.0  296.0   \n",
       "1  0.02731   0.0   7.07   0.0  0.469  6.421  78.9  4.9671  2.0  242.0   \n",
       "2  0.02729   0.0   7.07   0.0  0.469  7.185  61.1  4.9671  2.0  242.0   \n",
       "3  0.03237   0.0   2.18   0.0  0.458  6.998  45.8  6.0622  3.0  222.0   \n",
       "4  0.06905   0.0   2.18   0.0  0.458  7.147  54.2  6.0622  3.0  222.0   \n",
       "\n",
       "   PTRATIO       B  LSTAT  output  \n",
       "0     15.3  396.90   4.98    24.0  \n",
       "1     17.8  396.90   9.14    21.6  \n",
       "2     17.8  392.83   4.03    34.7  \n",
       "3     18.7  394.63   2.94    33.4  \n",
       "4     18.7  396.90   5.33    36.2  "
      ]
     },
     "execution_count": 5,
     "metadata": {},
     "output_type": "execute_result"
    }
   ],
   "source": [
    "X = load_boston().data\n",
    "Y = load_boston().target\n",
    "\n",
    "bst = pd.DataFrame(X)\n",
    "bst.columns = load_boston().feature_names\n",
    "target = pd.DataFrame(Y)\n",
    "bst['output'] = target\n",
    "bst.head()"
   ]
  },
  {
   "cell_type": "code",
   "execution_count": 5,
   "metadata": {
    "colab": {},
    "colab_type": "code",
    "id": "FgUW39s6Be0U"
   },
   "outputs": [],
   "source": [
    "scaler = preprocessing.StandardScaler().fit(X)\n",
    "X = scaler.transform(X)"
   ]
  },
  {
   "cell_type": "code",
   "execution_count": 11,
   "metadata": {
    "colab": {
     "base_uri": "https://localhost:8080/",
     "height": 34
    },
    "colab_type": "code",
    "executionInfo": {
     "elapsed": 879,
     "status": "ok",
     "timestamp": 1545718892607,
     "user": {
      "displayName": "Applied AI Course",
      "photoUrl": "https://lh5.googleusercontent.com/-9_3A9F-kDXs/AAAAAAAAAAI/AAAAAAAAACw/IprjYvUuoXQ/s64/photo.jpg",
      "userId": "00484516897554883881"
     },
     "user_tz": -330
    },
    "id": "HNu1sXtEBBS2",
    "outputId": "a0c5d3d0-345c-4a34-8ccf-0d9f3d7d23fd"
   },
   "outputs": [
    {
     "name": "stdout",
     "output_type": "stream",
     "text": [
      "mean squared error: 1.0611296980386276e+29\n"
     ]
    }
   ],
   "source": [
    "clf = SGDRegressor()\n",
    "clf.fit(X, Y)\n",
    "print(\"mean squared error:\", mean_squared_error(Y, clf.predict(X)))"
   ]
  },
  {
   "cell_type": "code",
   "execution_count": 7,
   "metadata": {},
   "outputs": [
    {
     "name": "stdout",
     "output_type": "stream",
     "text": [
      "[30.17681616 24.6202729  30.38739838 28.82694892 28.3153495  25.23547888\n",
      " 22.8948457  19.86435809 12.14799672 19.39476667 19.67996502 21.72931196\n",
      " 20.98905108 19.88953587 19.57323479 19.52162031 20.85972566 17.29348211\n",
      " 16.17255613 18.34635998 12.73774546 17.85649739 16.33200177 14.19828675\n",
      " 16.10542548 13.7323012  15.90206338 15.30625988 20.11521228 21.44365067\n",
      " 12.02564079 18.29342329  9.72089987 14.44031162 14.15997638 22.81923551\n",
      " 21.42850366 22.41096007 22.36439305 29.46457848 32.45456078 27.87121685\n",
      " 24.77982059 24.28766553 22.48264313 21.23600675 19.81176801 17.77427943\n",
      "  9.14501672 16.88997852 20.76667632 23.2489977  27.13904312 23.42552951\n",
      " 16.32275013 29.99438753 24.94416907 31.30935375 21.53308028 20.37146425\n",
      " 17.29236697 17.79626842 23.44467748 22.75425818 24.43458676 28.89188135\n",
      " 24.01358561 21.28837756 17.62322275 20.94142882 24.7454464  21.15890783\n",
      " 23.85797419 23.54573345 25.22209577 23.71215666 22.49275075 22.90957153\n",
      " 21.32499    22.01369512 27.70644798 26.15128158 25.19780926 24.11894581\n",
      " 24.41158311 27.19872336 21.6263683  24.83304986 30.39127826 30.70686712\n",
      " 26.65682087 26.87503311 26.6951347  26.74522884 24.67454527 28.10956447\n",
      " 24.14811588 35.78523856 35.15511196 32.08710723 24.75534344 25.78666359\n",
      " 19.82336838 20.32244735 21.26306314 18.24082112 17.05894947 20.53873437\n",
      " 22.59826587 19.84190261 20.85752907 26.80997858 20.75133314 20.902798\n",
      " 25.04205862 20.4688707  23.55023899 23.65703058 20.40767041 20.86624327\n",
      " 19.51864061 20.0386377  18.19144408 14.23448506 18.08681296 19.95883823\n",
      " 12.38605693 15.27726413 19.32092799 14.29165874 20.42755187 19.81796645\n",
      " 20.44223017 16.11826395 13.65250081 17.81388873 16.18172738 19.73545495\n",
      " 14.13581652 16.78875002 14.19221132  4.46255638 16.67545527 13.83147417\n",
      " 10.20673299 14.08079182 17.0993981  10.06487503 11.38040027 16.34277493\n",
      " 22.27521395 19.30506976 21.40257947 18.61307939 24.38948532 22.27598096\n",
      " 14.83298236 32.41800392 27.77342948 26.91511168 32.02718722 36.14970238\n",
      " 40.57964246 42.29280901 24.03762214 24.62478178 36.9211644  22.43087807\n",
      " 25.7049248  26.08740588 21.91159201 23.53438885 21.79541384 28.08313106\n",
      " 25.38163705 30.08317054 25.05990915 28.30725309 30.73278195 31.66396574\n",
      " 33.82484313 26.18103248 32.48350248 29.37741179 21.11544297 23.63266705\n",
      " 35.21413275 32.41051213 31.58027177 33.99176491 31.02699609 30.38001877\n",
      " 33.16580643 31.13296591 30.40386102 39.14184026 35.53892405 32.2013869\n",
      " 34.21323705 30.12440221 30.75764366 28.16745437 36.58591536 39.29360037\n",
      " 40.50327711 21.88348534 23.13168042 17.27652321 23.38067156 16.58715833\n",
      " 22.03225251 16.67948817 22.33539015 24.53509246 10.90080416 23.68378121\n",
      " 25.77678183 27.23800663 24.05294231 28.88728737 32.50248645 23.34011391\n",
      " 31.67442765 28.54226729 37.64489728 39.32828138 36.79688938 31.35951153\n",
      " 34.94187071 30.11952667 23.36704503 32.53501786 37.74672768 36.81491278\n",
      " 31.29528924 24.20926061 29.87391725 32.17498821 27.59692205 27.59368024\n",
      " 26.80594285 22.84435905 23.66377922 26.8935144  16.28061701 13.6801364\n",
      " 20.32047724 20.04891227 21.59903424 24.54755986 24.35805651 25.07924219\n",
      " 25.88079956 31.56718792 23.84803359 21.64973582 35.36142497 43.06346979\n",
      " 35.6587118  33.92260646 34.19134416 36.56569662 40.82095554 33.90079516\n",
      " 35.01371053 26.8823501  30.76884214 40.24799605 38.3641714  24.59645272\n",
      " 20.97876855 25.88317331 26.96197618 35.16300473 34.59177705 31.86334104\n",
      " 34.7084665  33.75978029 28.43464985 33.34310843 37.38016512 32.89920056\n",
      " 39.57220843 43.08235716 30.77620773 27.08167781 19.8507208  25.72327518\n",
      " 25.89984596 25.93514193 30.89108262 32.0179697  29.26170064 24.89818555\n",
      " 23.42027879 27.84102664 26.63403106 18.96566548 28.45090099 31.63961987\n",
      " 30.29166324 27.81738163 27.77999752 31.75986128 31.51288527 28.48718291\n",
      " 33.38089301 30.33415956 28.10357179 22.91258632 17.50481363 26.01362111\n",
      " 22.52776523 24.95292199 25.23706283 20.16119765 17.67734078 18.32254848\n",
      " 24.07707316 21.34072822 24.56164716 24.49309944 22.4704466  18.95810357\n",
      " 24.8792451  24.81164596 23.74917521 19.54355834 22.42269452 25.65066266\n",
      " 23.19287985 20.03160052 23.35104533 22.41993625 21.8815468  20.68233721\n",
      " 19.83950055 19.11473285 21.74051391 20.80654048 20.89025017 30.9633555\n",
      " 24.84131047 27.5383816  28.80546046 18.37106289 16.63890547 25.16466325\n",
      " 26.98599453 24.09982981 22.13913693 22.52917435 18.7106152  24.95611903\n",
      " 15.12263707 17.42337495 20.97622291 23.97476833 23.41021397 19.87776559\n",
      " 23.22351604 19.59562877 18.12998378 21.01730009 38.88085445 12.52208059\n",
      " 14.84899245  8.95435841 21.63090185 31.89036691 33.93967389 23.77749219\n",
      " 25.43307187  5.92022818  0.55522253 25.63716558 18.11740596 20.39026713\n",
      " 16.35982027 16.9883249  16.95699726 18.75868908 13.38866743 13.00378214\n",
      "  3.32282838  8.42531688  6.29860754  6.16588593  6.59183958 13.99704695\n",
      " 17.04033264 17.50531177  9.87364864 20.15151792 17.9083074  20.41423676\n",
      " 19.38584201 16.14348213  7.62671885 11.36448926 12.66579093 18.11449373\n",
      " 18.47826202 13.15886198  8.5619255   9.92764563  7.13482153 19.01908927\n",
      " 12.84975827 19.51562981 14.99081268 16.61687846  1.15399127 11.12198553\n",
      " -3.04664302 10.48942505 14.10088231  7.32518915  8.12112517 15.64327851\n",
      " 19.92444164 18.17995154 17.63852214 12.87337679 13.63347246 10.31484908\n",
      " 15.55183143 14.88197615 14.48598163 13.48127503 17.49185472 18.39792118\n",
      " 20.67908195 17.48051945 16.42762669 14.54827876 15.42516285  9.93274764\n",
      "  6.2126174  13.52755831 13.65232301 18.08917086 19.12760746 18.81545842\n",
      " 12.27047538 13.80352467 18.26149269 18.75783843 17.96087848 17.76162945\n",
      " 17.21016076 19.99716827 18.98787168 23.52284937 16.17418998 16.44441636\n",
      " 13.13124571 13.43389062 17.85305003 18.92488961 19.72312669 20.5487705\n",
      " 20.28091652 22.82255174 20.45110852 17.82219975 14.32227661 16.31827682\n",
      " 16.74957304 18.03549844 19.60093594 21.84006708 21.89253182 25.36780946\n",
      " 15.37426022 15.60183387 20.19489399 11.12361652 18.77609044 21.29068303\n",
      " 22.5611335  26.20632551 27.82355194 20.23940528 19.0713193  22.0326323\n",
      " 19.3113547  20.63637337 13.7510379  10.33585067  5.92659372 15.91156316\n",
      " 18.03357964 20.59864194 20.83338829 17.4214056  14.36405297 19.36999992\n",
      " 21.43028342 18.41952308 20.64062068 23.47002532 21.9218008  27.31469843\n",
      " 25.87102115 21.86013188]\n"
     ]
    }
   ],
   "source": [
    "print(clf.predict(X))"
   ]
  }
 ],
 "metadata": {
  "colab": {
   "name": "Untitled3.ipynb",
   "provenance": [],
   "version": "0.3.2"
  },
  "kernelspec": {
   "display_name": "Python 3",
   "language": "python",
   "name": "python3"
  },
  "language_info": {
   "codemirror_mode": {
    "name": "ipython",
    "version": 3
   },
   "file_extension": ".py",
   "mimetype": "text/x-python",
   "name": "python",
   "nbconvert_exporter": "python",
   "pygments_lexer": "ipython3",
   "version": "3.6.5"
  }
 },
 "nbformat": 4,
 "nbformat_minor": 1
}
